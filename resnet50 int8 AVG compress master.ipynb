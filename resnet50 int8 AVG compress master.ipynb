{
 "cells": [
  {
   "cell_type": "code",
   "execution_count": 1,
   "id": "noble-virginia",
   "metadata": {},
   "outputs": [],
   "source": [
    "import torch\n",
    "import torch.nn as nn\n",
    "import torch.optim as optim\n",
    "import torch.nn.functional as F\n",
    "import torch.backends.cudnn as cudnn\n",
    "\n",
    "import torchvision\n",
    "import torchvision.transforms as transforms\n",
    "\n",
    "import os\n",
    "import argparse\n",
    "\n",
    "from models import *\n",
    "from poutyne import Model\n",
    "from poutyne import CosineAnnealingLR\n",
    "from callbacks import WandbCallback, DummySyncCallback, MasterDummySyncCallback\n",
    "# from compression import UINT8Compressor\n",
    "\n",
    "device= 'cuda:0'"
   ]
  },
  {
   "cell_type": "code",
   "execution_count": 2,
   "id": "tribal-african",
   "metadata": {},
   "outputs": [],
   "source": [
    "import torch\n",
    "import numpy as np\n",
    "from scipy import ndimage\n",
    "from poutyne import torch_to_numpy, numpy_to_torch\n",
    "\n",
    "\n",
    "def fast_quantile_encode(weight, window_size=4.):\n",
    "    scale = 128 / (window_size * weight.std())\n",
    "\n",
    "    scaled_weight = scale * weight\n",
    "    quant_weight = scaled_weight.astype('int8')\n",
    "\n",
    "    quant_weight[scaled_weight > 127] = 127\n",
    "    quant_weight[scaled_weight < -128] = -128\n",
    "\n",
    "    quant_weight = quant_weight.astype('uint8')\n",
    "\n",
    "    lookup = ndimage.mean(weight, labels=quant_weight, index=np.arange(256))\n",
    "    lookup[np.isnan(lookup)] = 0.\n",
    "    lookup = lookup.astype('float32')\n",
    "    return quant_weight, lookup\n",
    "\n",
    "\n",
    "UNIFORM_BUCKETS_STD_RANGE = 6\n",
    "UINT8_RANGE = 256\n",
    "\n",
    "\n",
    "\n",
    "def average_buckets(tensor, quant_weight, n_bins):\n",
    "    bin_sums = torch.zeros(n_bins).scatter_add_(0, quant_weight.flatten().long(), tensor.flatten())\n",
    "    \n",
    "    bin_counts = torch.clamp_min_(torch.bincount(quant_weight.flatten(), minlength=n_bins), 1)\n",
    "    lookup = bin_sums / bin_counts\n",
    "    return quant_weight, lookup\n",
    "\n",
    "def uint8_uniform_buckets_encode(tensor: torch.Tensor, range_in_sigmas: float):\n",
    "    tensor= tensor.cpu()\n",
    "    offset = UINT8_RANGE // 2\n",
    "    shift = tensor.mean()\n",
    "    scale = range_in_sigmas * tensor.std() / UINT8_RANGE\n",
    "\n",
    "    quant_weight = torch.quantize_per_tensor(tensor - shift, scale, offset, torch.quint8).int_repr()\n",
    "\n",
    "    quant_weight, lookup = average_buckets(tensor, quant_weight, UINT8_RANGE)\n",
    "    return quant_weight, lookup\n",
    "\n",
    "\n",
    "\n",
    "class UINT8Compressor(object):\n",
    "    def __init__(self, parameter_names):\n",
    "        self.parameter_names = parameter_names\n",
    "\n",
    "    def encode(self, weight):\n",
    "        with torch.no_grad():\n",
    "            quant_weight,lookup = uint8_uniform_buckets_encode(weight,UNIFORM_BUCKETS_STD_RANGE)\n",
    "            return dict(quant_weight=quant_weight, lookup=lookup)\n",
    "\n",
    "    def decode(self, encoded):\n",
    "        quant_weight, lookup = encoded['quant_weight'], encoded['lookup']\n",
    "        return lookup[quant_weight.long()].float()\n",
    "\n",
    "    def serialize(self, state_dict):\n",
    "        for name in self.parameter_names:\n",
    "            state_dict[name] = self.encode(state_dict[name])\n",
    "        return state_dict\n",
    "\n",
    "    def deserialize(self, state_dict):\n",
    "        for name in self.parameter_names:\n",
    "            state_dict[name] = self.decode(state_dict[name])\n",
    "        return state_dict"
   ]
  },
  {
   "cell_type": "code",
   "execution_count": 3,
   "id": "personalized-mauritius",
   "metadata": {},
   "outputs": [],
   "source": [
    "# layers_to_compress = \\\n",
    "# ['layer1.0.conv1.weight',\n",
    "#  'layer1.0.conv2.weight',\n",
    "#  'layer1.0.conv3.weight',\n",
    "#  'layer1.0.shortcut.0.weight',\n",
    "#  'layer1.1.conv1.weight',\n",
    "#  'layer1.1.conv2.weight',\n",
    "#  'layer1.1.conv3.weight',\n",
    "#  'layer1.2.conv1.weight',\n",
    "#  'layer1.2.conv2.weight',\n",
    "#  'layer1.2.conv3.weight',\n",
    "#  'layer2.0.conv1.weight',\n",
    "#  'layer2.0.conv2.weight',\n",
    "#  'layer2.0.conv3.weight',\n",
    "#  'layer2.0.shortcut.0.weight',\n",
    "#  'layer2.1.conv1.weight',\n",
    "#  'layer2.1.conv2.weight',\n",
    "#  'layer2.1.conv3.weight',\n",
    "#  'layer2.2.conv1.weight',\n",
    "#  'layer2.2.conv2.weight',\n",
    "#  'layer2.2.conv3.weight',\n",
    "#  'layer2.3.conv1.weight',\n",
    "#  'layer2.3.conv2.weight',\n",
    "#  'layer2.3.conv3.weight',\n",
    "#  'layer3.0.conv1.weight',\n",
    "#  'layer3.0.conv2.weight',\n",
    "#  'layer3.0.conv3.weight',\n",
    "#  'layer3.0.shortcut.0.weight',\n",
    "#  'layer3.1.conv1.weight',\n",
    "#  'layer3.1.conv2.weight',\n",
    "#  'layer3.1.conv3.weight',\n",
    "#  'layer3.2.conv1.weight',\n",
    "#  'layer3.2.conv2.weight',\n",
    "#  'layer3.2.conv3.weight',\n",
    "#  'layer3.3.conv1.weight',\n",
    "#  'layer3.3.conv2.weight',\n",
    "#  'layer3.3.conv3.weight',\n",
    "#  'layer3.4.conv1.weight',\n",
    "#  'layer3.4.conv2.weight',\n",
    "#  'layer3.4.conv3.weight',\n",
    "#  'layer3.5.conv1.weight',\n",
    "#  'layer3.5.conv2.weight',\n",
    "#  'layer3.5.conv3.weight',\n",
    "#  'layer4.0.conv1.weight',\n",
    "#  'layer4.0.conv2.weight',\n",
    "#  'layer4.0.conv3.weight',\n",
    "#  'layer4.0.shortcut.0.weight',\n",
    "#  'layer4.1.conv1.weight',\n",
    "#  'layer4.1.conv2.weight',\n",
    "#  'layer4.1.conv3.weight',\n",
    "#  'layer4.2.conv1.weight',\n",
    "#  'layer4.2.conv2.weight',\n",
    "#  'layer4.2.conv3.weight',\n",
    "#  'linear.weight']\n",
    "\n",
    "layers_to_compress = list(ResNet50().state_dict().keys())\n",
    "layers_to_compress = [l for l in layers_to_compress if  'num_batches_tracked' not in l]"
   ]
  },
  {
   "cell_type": "code",
   "execution_count": 4,
   "id": "imposed-bennett",
   "metadata": {},
   "outputs": [
    {
     "name": "stdout",
     "output_type": "stream",
     "text": [
      "Files already downloaded and verified\n",
      "Files already downloaded and verified\n"
     ]
    }
   ],
   "source": [
    "transform_train = transforms.Compose([\n",
    "    transforms.RandomCrop(32, padding=4),\n",
    "    transforms.RandomHorizontalFlip(),\n",
    "    transforms.ToTensor(),\n",
    "    transforms.Normalize((0.4914, 0.4822, 0.4465), (0.2023, 0.1994, 0.2010)),\n",
    "])\n",
    "\n",
    "transform_test = transforms.Compose([\n",
    "    transforms.ToTensor(),\n",
    "    transforms.Normalize((0.4914, 0.4822, 0.4465), (0.2023, 0.1994, 0.2010)),\n",
    "])\n",
    "\n",
    "trainset = torchvision.datasets.CIFAR10(\n",
    "    root='/storage/cifar10', train=True, download=True, transform=transform_train)\n",
    "trainloader = torch.utils.data.DataLoader(\n",
    "    trainset, batch_size=128, shuffle=True, num_workers=2)\n",
    "\n",
    "testset = torchvision.datasets.CIFAR10(\n",
    "    root='/storage/cifar10', train=False, download=True, transform=transform_test)\n",
    "testloader = torch.utils.data.DataLoader(\n",
    "    testset, batch_size=100, shuffle=False, num_workers=2)\n",
    "\n",
    "classes = ('plane', 'car', 'bird', 'cat', 'deer',\n",
    "           'dog', 'frog', 'horse', 'ship', 'truck')\n",
    "\n"
   ]
  },
  {
   "cell_type": "code",
   "execution_count": 5,
   "id": "nonprofit-graph",
   "metadata": {},
   "outputs": [
    {
     "data": {
      "text/plain": [
       "<All keys matched successfully>"
      ]
     },
     "execution_count": 5,
     "metadata": {},
     "output_type": "execute_result"
    }
   ],
   "source": [
    "net = ResNet50()\n",
    "net.load_state_dict(\n",
    "    torch.load('/storage/monty/resnet_compress/resnet50_init.pth')\n",
    ")"
   ]
  },
  {
   "cell_type": "code",
   "execution_count": 6,
   "id": "false-pharmacy",
   "metadata": {},
   "outputs": [],
   "source": [
    "# !ls /tmp/resnet50_runs\n",
    "# !mkdir /storage/monty/resnet50_runs"
   ]
  },
  {
   "cell_type": "code",
   "execution_count": 7,
   "id": "painted-channels",
   "metadata": {},
   "outputs": [],
   "source": [
    "compressor = UINT8Compressor(layers_to_compress)"
   ]
  },
  {
   "cell_type": "code",
   "execution_count": 8,
   "id": "actual-poland",
   "metadata": {},
   "outputs": [],
   "source": [
    "# !mkdir /tmp/resnet50_runs"
   ]
  },
  {
   "cell_type": "code",
   "execution_count": 9,
   "id": "computational-egyptian",
   "metadata": {},
   "outputs": [
    {
     "name": "stderr",
     "output_type": "stream",
     "text": [
      "Failed to query for notebook name, you can set it manually with the WANDB_NOTEBOOK_NAME environment variable\n",
      "\u001B[34m\u001B[1mwandb\u001B[0m: Currently logged in as: \u001B[33mmontyponty\u001B[0m (use `wandb login --relogin` to force relogin)\n",
      "\u001B[34m\u001B[1mwandb\u001B[0m: wandb version 0.10.25 is available!  To upgrade, please run:\n",
      "\u001B[34m\u001B[1mwandb\u001B[0m:  $ pip install wandb --upgrade\n"
     ]
    },
    {
     "data": {
      "text/html": [
       "\n",
       "                Tracking run with wandb version 0.10.20<br/>\n",
       "                Syncing run <strong style=\"color:#cdcd00\">int8_avg_compress_not_all_master</strong> to <a href=\"https://wandb.ai\" target=\"_blank\">Weights & Biases</a> <a href=\"https://docs.wandb.com/integrations/jupyter.html\" target=\"_blank\">(Documentation)</a>.<br/>\n",
       "                Project page: <a href=\"https://wandb.ai/montyponty/resnet_grad_compress\" target=\"_blank\">https://wandb.ai/montyponty/resnet_grad_compress</a><br/>\n",
       "                Run page: <a href=\"https://wandb.ai/montyponty/resnet_grad_compress/runs/2jq8n96q\" target=\"_blank\">https://wandb.ai/montyponty/resnet_grad_compress/runs/2jq8n96q</a><br/>\n",
       "                Run data is saved locally in <code>/home/jupyter-monty/projects/ml_engineering/wandb/run-20210408_163028-2jq8n96q</code><br/><br/>\n",
       "            "
      ],
      "text/plain": [
       "<IPython.core.display.HTML object>"
      ]
     },
     "metadata": {},
     "output_type": "display_data"
    }
   ],
   "source": [
    "criterion = nn.CrossEntropyLoss()\n",
    "optimizer = optim.SGD(net.parameters(), lr=0.01,\n",
    "                      momentum=0.9, weight_decay=5e-4)\n",
    "\n",
    "scheduler = CosineAnnealingLR(T_max=200)\n",
    "wandb_callback = WandbCallback(\n",
    "    project=\"resnet_grad_compress\", \n",
    "    entity=\"montyponty\",\n",
    "    name='int8_avg_compress_not_all_master',\n",
    "#     prefix='master'\n",
    ")\n",
    "sync_callback = MasterDummySyncCallback(\n",
    "    save_dir =  '/tmp/resnet50_runs',\n",
    "    serialize_fn = compressor.serialize,\n",
    "    deserialize_fn = compressor.deserialize,\n",
    "    rank_id=0,\n",
    "    n_workers=2,\n",
    "    period=8\n",
    ")"
   ]
  },
  {
   "cell_type": "code",
   "execution_count": null,
   "id": "matched-receipt",
   "metadata": {},
   "outputs": [
    {
     "name": "stdout",
     "output_type": "stream",
     "text": [
      "\u001B[93mEpoch: \u001B[94m1/200 \u001B[93mStep: \u001B[94m391/391 \u001B[93m100.00% |\u001B[92m█████████████████████████\u001B[93m|\u001B[32m163.10s \u001B[93mloss:\u001B[96m 1.934945\u001B[93m acc:\u001B[96m 31.802000\u001B[93m val_loss:\u001B[96m 1.577674\u001B[93m val_acc:\u001B[96m 42.490000\u001B[0m\n",
      "\u001B[93mEpoch: \u001B[94m2/200 \u001B[93mStep: \u001B[94m391/391 \u001B[93m100.00% |\u001B[92m█████████████████████████\u001B[93m|\u001B[32m166.74s \u001B[93mloss:\u001B[96m 1.287786\u001B[93m acc:\u001B[96m 53.620000\u001B[93m val_loss:\u001B[96m 1.270575\u001B[93m val_acc:\u001B[96m 58.230000\u001B[0m\n",
      "\u001B[93mEpoch: \u001B[94m3/200 \u001B[93mStep: \u001B[94m391/391 \u001B[93m100.00% |\u001B[92m█████████████████████████\u001B[93m|\u001B[32m167.78s \u001B[93mloss:\u001B[96m 0.961316\u001B[93m acc:\u001B[96m 66.060000\u001B[93m val_loss:\u001B[96m 0.844800\u001B[93m val_acc:\u001B[96m 70.650000\u001B[0m\n",
      "\u001B[93mEpoch: \u001B[94m4/200 \u001B[93mStep: \u001B[94m391/391 \u001B[93m100.00% |\u001B[92m█████████████████████████\u001B[93m|\u001B[32m167.94s \u001B[93mloss:\u001B[96m 0.738599\u001B[93m acc:\u001B[96m 74.404000\u001B[93m val_loss:\u001B[96m 0.806705\u001B[93m val_acc:\u001B[96m 73.850000\u001B[0m\n",
      "\u001B[93mEpoch: \u001B[94m5/200 \u001B[93mStep: \u001B[94m391/391 \u001B[93m100.00% |\u001B[92m█████████████████████████\u001B[93m|\u001B[32m168.17s \u001B[93mloss:\u001B[96m 0.583226\u001B[93m acc:\u001B[96m 79.964000\u001B[93m val_loss:\u001B[96m 0.609364\u001B[93m val_acc:\u001B[96m 79.790000\u001B[0m\n",
      "\u001B[93mEpoch: \u001B[94m6/200 \u001B[93mStep: \u001B[94m391/391 \u001B[93m100.00% |\u001B[92m█████████████████████████\u001B[93m|\u001B[32m169.40s \u001B[93mloss:\u001B[96m 0.486620\u001B[93m acc:\u001B[96m 83.176000\u001B[93m val_loss:\u001B[96m 0.580507\u001B[93m val_acc:\u001B[96m 81.180000\u001B[0m\n",
      "\u001B[93mEpoch: \u001B[94m7/200 \u001B[93mStep: \u001B[94m391/391 \u001B[93m100.00% |\u001B[92m█████████████████████████\u001B[93m|\u001B[32m167.30s \u001B[93mloss:\u001B[96m 0.426251\u001B[93m acc:\u001B[96m 85.340000\u001B[93m val_loss:\u001B[96m 0.455694\u001B[93m val_acc:\u001B[96m 84.540000\u001B[0m\n",
      "\u001B[93mEpoch: \u001B[94m8/200 \u001B[93mStep: \u001B[94m391/391 \u001B[93m100.00% |\u001B[92m█████████████████████████\u001B[93m|\u001B[32m168.12s \u001B[93mloss:\u001B[96m 0.377982\u001B[93m acc:\u001B[96m 87.104000\u001B[93m val_loss:\u001B[96m 0.486710\u001B[93m val_acc:\u001B[96m 83.930000\u001B[0m\n",
      "\u001B[93mEpoch: \u001B[94m9/200 \u001B[93mStep: \u001B[94m391/391 \u001B[93m100.00% |\u001B[92m█████████████████████████\u001B[93m|\u001B[32m166.56s \u001B[93mloss:\u001B[96m 0.340075\u001B[93m acc:\u001B[96m 88.294000\u001B[93m val_loss:\u001B[96m 0.511388\u001B[93m val_acc:\u001B[96m 83.170000\u001B[0m\n",
      "\u001B[93mEpoch: \u001B[94m10/200 \u001B[93mStep: \u001B[94m391/391 \u001B[93m100.00% |\u001B[92m█████████████████████████\u001B[93m|\u001B[32m169.41s \u001B[93mloss:\u001B[96m 0.311498\u001B[93m acc:\u001B[96m 89.230000\u001B[93m val_loss:\u001B[96m 0.453674\u001B[93m val_acc:\u001B[96m 85.600000\u001B[0m\n",
      "\u001B[93mEpoch: \u001B[94m11/200 \u001B[93mStep: \u001B[94m391/391 \u001B[93m100.00% |\u001B[92m█████████████████████████\u001B[93m|\u001B[32m169.00s \u001B[93mloss:\u001B[96m 0.280908\u001B[93m acc:\u001B[96m 90.148000\u001B[93m val_loss:\u001B[96m 0.422105\u001B[93m val_acc:\u001B[96m 86.150000\u001B[0m\n",
      "\u001B[93mEpoch: \u001B[94m12/200 \u001B[93mStep: \u001B[94m178/391 \u001B[93m45.52% |\u001B[92m███████████              \u001B[93m|\u001B[93mETA: \u001B[32m87.99s \u001B[93mloss:\u001B[96m 0.214645\u001B[93m acc:\u001B[96m 90.6250000"
     ]
    },
    {
     "name": "stderr",
     "output_type": "stream",
     "text": [
      "IOPub message rate exceeded.\n",
      "The notebook server will temporarily stop sending output\n",
      "to the client in order to avoid crashing it.\n",
      "To change this limit, set the config variable\n",
      "`--NotebookApp.iopub_msg_rate_limit`.\n",
      "\n",
      "Current values:\n",
      "NotebookApp.iopub_msg_rate_limit=1000.0 (msgs/sec)\n",
      "NotebookApp.rate_limit_window=3.0 (secs)\n",
      "\n"
     ]
    },
    {
     "name": "stdout",
     "output_type": "stream",
     "text": [
      "\u001B[93mEpoch: \u001B[94m26/200 \u001B[93mStep: \u001B[94m391/391 \u001B[93m100.00% |\u001B[92m█████████████████████████\u001B[93m|\u001B[32m168.64s \u001B[93mloss:\u001B[96m 0.115382\u001B[93m acc:\u001B[96m 95.920000\u001B[93m val_loss:\u001B[96m 0.439988\u001B[93m val_acc:\u001B[96m 87.780000\u001B[0m\n",
      "\u001B[93mEpoch: \u001B[94m27/200 \u001B[93mStep: \u001B[94m391/391 \u001B[93m100.00% |\u001B[92m█████████████████████████\u001B[93m|\u001B[32m167.34s \u001B[93mloss:\u001B[96m 0.106873\u001B[93m acc:\u001B[96m 96.246000\u001B[93m val_loss:\u001B[96m 0.344857\u001B[93m val_acc:\u001B[96m 90.380000\u001B[0m\n",
      "\u001B[93mEpoch: \u001B[94m28/200 \u001B[93mStep: \u001B[94m391/391 \u001B[93m100.00% |\u001B[92m█████████████████████████\u001B[93m|\u001B[32m168.13s \u001B[93mloss:\u001B[96m 0.097955\u001B[93m acc:\u001B[96m 96.608000\u001B[93m val_loss:\u001B[96m 0.352455\u001B[93m val_acc:\u001B[96m 90.200000\u001B[0m\n",
      "\u001B[93mEpoch: \u001B[94m29/200 \u001B[93mStep: \u001B[94m391/391 \u001B[93m100.00% |\u001B[92m█████████████████████████\u001B[93m|\u001B[32m167.96s \u001B[93mloss:\u001B[96m 0.102643\u001B[93m acc:\u001B[96m 96.476000\u001B[93m val_loss:\u001B[96m 0.370012\u001B[93m val_acc:\u001B[96m 89.390000\u001B[0m\n",
      "\u001B[93mEpoch: \u001B[94m30/200 \u001B[93mStep: \u001B[94m391/391 \u001B[93m100.00% |\u001B[92m█████████████████████████\u001B[93m|\u001B[32m168.66s \u001B[93mloss:\u001B[96m 0.087382\u001B[93m acc:\u001B[96m 97.022000\u001B[93m val_loss:\u001B[96m 0.423121\u001B[93m val_acc:\u001B[96m 89.490000\u001B[0m\n",
      "\u001B[93mEpoch: \u001B[94m31/200 \u001B[93mStep: \u001B[94m391/391 \u001B[93m100.00% |\u001B[92m█████████████████████████\u001B[93m|\u001B[32m167.92s \u001B[93mloss:\u001B[96m 0.079924\u001B[93m acc:\u001B[96m 97.218000\u001B[93m val_loss:\u001B[96m 0.416851\u001B[93m val_acc:\u001B[96m 88.940000\u001B[0m\n",
      "\u001B[93mEpoch: \u001B[94m32/200 \u001B[93mStep: \u001B[94m391/391 \u001B[93m100.00% |\u001B[92m█████████████████████████\u001B[93m|\u001B[32m168.21s \u001B[93mloss:\u001B[96m 0.084870\u001B[93m acc:\u001B[96m 97.050000\u001B[93m val_loss:\u001B[96m 0.428316\u001B[93m val_acc:\u001B[96m 89.070000\u001B[0m\n",
      "\u001B[93mEpoch: \u001B[94m33/200 \u001B[93mStep: \u001B[94m391/391 \u001B[93m100.00% |\u001B[92m█████████████████████████\u001B[93m|\u001B[32m166.85s \u001B[93mloss:\u001B[96m 0.095302\u001B[93m acc:\u001B[96m 96.678000\u001B[93m val_loss:\u001B[96m 0.375670\u001B[93m val_acc:\u001B[96m 89.600000\u001B[0m\n",
      "\u001B[93mEpoch: \u001B[94m34/200 \u001B[93mStep: \u001B[94m391/391 \u001B[93m100.00% |\u001B[92m█████████████████████████\u001B[93m|\u001B[32m168.78s \u001B[93mloss:\u001B[96m 0.078057\u001B[93m acc:\u001B[96m 97.278000\u001B[93m val_loss:\u001B[96m 0.447786\u001B[93m val_acc:\u001B[96m 88.610000\u001B[0m\n",
      "\u001B[93mEpoch: \u001B[94m35/200 \u001B[93mStep: \u001B[94m391/391 \u001B[93m100.00% |\u001B[92m█████████████████████████\u001B[93m|\u001B[32m167.86s \u001B[93mloss:\u001B[96m 0.083241\u001B[93m acc:\u001B[96m 97.110000\u001B[93m val_loss:\u001B[96m 0.322795\u001B[93m val_acc:\u001B[96m 91.500000\u001B[0m\n",
      "\u001B[93mEpoch: \u001B[94m36/200 \u001B[93mStep: \u001B[94m391/391 \u001B[93m100.00% |\u001B[92m█████████████████████████\u001B[93m|\u001B[32m168.22s \u001B[93mloss:\u001B[96m 0.065615\u001B[93m acc:\u001B[96m 97.690000\u001B[93m val_loss:\u001B[96m 0.453462\u001B[93m val_acc:\u001B[96m 89.230000\u001B[0m\n",
      "\u001B[93mEpoch: \u001B[94m37/200 \u001B[93mStep: \u001B[94m391/391 \u001B[93m100.00% |\u001B[92m█████████████████████████\u001B[93m|\u001B[32m167.69s \u001B[93mloss:\u001B[96m 0.065859\u001B[93m acc:\u001B[96m 97.758000\u001B[93m val_loss:\u001B[96m 0.360913\u001B[93m val_acc:\u001B[96m 90.790000\u001B[0m\n",
      "\u001B[93mEpoch: \u001B[94m38/200 \u001B[93mStep: \u001B[94m391/391 \u001B[93m100.00% |\u001B[92m█████████████████████████\u001B[93m|\u001B[32m168.50s \u001B[93mloss:\u001B[96m 0.063471\u001B[93m acc:\u001B[96m 97.738000\u001B[93m val_loss:\u001B[96m 0.391858\u001B[93m val_acc:\u001B[96m 90.870000\u001B[0m\n",
      "\u001B[93mEpoch: \u001B[94m39/200 \u001B[93mStep: \u001B[94m391/391 \u001B[93m100.00% |\u001B[92m█████████████████████████\u001B[93m|\u001B[32m169.43s \u001B[93mloss:\u001B[96m 0.067850\u001B[93m acc:\u001B[96m 97.554000\u001B[93m val_loss:\u001B[96m 0.367944\u001B[93m val_acc:\u001B[96m 90.390000\u001B[0m\n",
      "\u001B[93mEpoch: \u001B[94m40/200 \u001B[93mStep: \u001B[94m391/391 \u001B[93m100.00% |\u001B[92m█████████████████████████\u001B[93m|\u001B[32m168.98s \u001B[93mloss:\u001B[96m 0.066133\u001B[93m acc:\u001B[96m 97.718000\u001B[93m val_loss:\u001B[96m 0.408043\u001B[93m val_acc:\u001B[96m 89.300000\u001B[0m\n",
      "\u001B[93mEpoch: \u001B[94m41/200 \u001B[93mStep: \u001B[94m391/391 \u001B[93m100.00% |\u001B[92m█████████████████████████\u001B[93m|\u001B[32m168.35s \u001B[93mloss:\u001B[96m 0.062762\u001B[93m acc:\u001B[96m 97.900000\u001B[93m val_loss:\u001B[96m 0.372173\u001B[93m val_acc:\u001B[96m 90.950000\u001B[0m\n",
      "\u001B[93mEpoch: \u001B[94m42/200 \u001B[93mStep: \u001B[94m391/391 \u001B[93m100.00% |\u001B[92m█████████████████████████\u001B[93m|\u001B[32m169.08s \u001B[93mloss:\u001B[96m 0.068063\u001B[93m acc:\u001B[96m 97.634000\u001B[93m val_loss:\u001B[96m 0.371573\u001B[93m val_acc:\u001B[96m 90.430000\u001B[0m\n",
      "\u001B[93mEpoch: \u001B[94m43/200 \u001B[93mStep: \u001B[94m391/391 \u001B[93m100.00% |\u001B[92m█████████████████████████\u001B[93m|\u001B[32m168.50s \u001B[93mloss:\u001B[96m 0.063483\u001B[93m acc:\u001B[96m 97.836000\u001B[93m val_loss:\u001B[96m 0.365779\u001B[93m val_acc:\u001B[96m 90.670000\u001B[0m\n",
      "\u001B[93mEpoch: \u001B[94m44/200 \u001B[93mStep: \u001B[94m391/391 \u001B[93m100.00% |\u001B[92m█████████████████████████\u001B[93m|\u001B[32m167.82s \u001B[93mloss:\u001B[96m 0.058025\u001B[93m acc:\u001B[96m 98.022000\u001B[93m val_loss:\u001B[96m 0.409980\u001B[93m val_acc:\u001B[96m 89.890000\u001B[0m\n",
      "\u001B[93mEpoch: \u001B[94m45/200 \u001B[93mStep: \u001B[94m391/391 \u001B[93m100.00% |\u001B[92m█████████████████████████\u001B[93m|\u001B[32m168.58s \u001B[93mloss:\u001B[96m 0.057563\u001B[93m acc:\u001B[96m 98.012000\u001B[93m val_loss:\u001B[96m 0.336995\u001B[93m val_acc:\u001B[96m 91.890000\u001B[0m\n",
      "\u001B[93mEpoch: \u001B[94m46/200 \u001B[93mStep: \u001B[94m391/391 \u001B[93m100.00% |\u001B[92m█████████████████████████\u001B[93m|\u001B[32m168.10s \u001B[93mloss:\u001B[96m 0.068025\u001B[93m acc:\u001B[96m 97.652000\u001B[93m val_loss:\u001B[96m 0.366120\u001B[93m val_acc:\u001B[96m 90.670000\u001B[0m\n",
      "\u001B[93mEpoch: \u001B[94m47/200 \u001B[93mStep: \u001B[94m391/391 \u001B[93m100.00% |\u001B[92m█████████████████████████\u001B[93m|\u001B[32m168.16s \u001B[93mloss:\u001B[96m 0.058276\u001B[93m acc:\u001B[96m 97.984000\u001B[93m val_loss:\u001B[96m 0.360680\u001B[93m val_acc:\u001B[96m 90.860000\u001B[0m\n",
      "\u001B[93mEpoch: \u001B[94m48/200 \u001B[93mStep: \u001B[94m391/391 \u001B[93m100.00% |\u001B[92m█████████████████████████\u001B[93m|\u001B[32m168.99s \u001B[93mloss:\u001B[96m 0.058856\u001B[93m acc:\u001B[96m 97.962000\u001B[93m val_loss:\u001B[96m 0.392879\u001B[93m val_acc:\u001B[96m 90.140000\u001B[0m\n",
      "\u001B[93mEpoch: \u001B[94m49/200 \u001B[93mStep: \u001B[94m391/391 \u001B[93m100.00% |\u001B[92m█████████████████████████\u001B[93m|\u001B[32m167.14s \u001B[93mloss:\u001B[96m 0.053761\u001B[93m acc:\u001B[96m 98.146000\u001B[93m val_loss:\u001B[96m 0.400814\u001B[93m val_acc:\u001B[96m 90.240000\u001B[0m\n",
      "\u001B[93mEpoch: \u001B[94m50/200 \u001B[93mStep: \u001B[94m391/391 \u001B[93m100.00% |\u001B[92m█████████████████████████\u001B[93m|\u001B[32m168.80s \u001B[93mloss:\u001B[96m 0.065706\u001B[93m acc:\u001B[96m 97.810000\u001B[93m val_loss:\u001B[96m 0.328434\u001B[93m val_acc:\u001B[96m 91.410000\u001B[0m\n",
      "\u001B[93mEpoch: \u001B[94m51/200 \u001B[93mStep: \u001B[94m391/391 \u001B[93m100.00% |\u001B[92m█████████████████████████\u001B[93m|\u001B[32m169.64s \u001B[93mloss:\u001B[96m 0.032759\u001B[93m acc:\u001B[96m 98.902000\u001B[93m val_loss:\u001B[96m 0.366209\u001B[93m val_acc:\u001B[96m 91.110000\u001B[0m\n",
      "\u001B[93mEpoch: \u001B[94m52/200 \u001B[93mStep: \u001B[94m391/391 \u001B[93m100.00% |\u001B[92m█████████████████████████\u001B[93m|\u001B[32m168.26s \u001B[93mloss:\u001B[96m 0.048768\u001B[93m acc:\u001B[96m 98.360000\u001B[93m val_loss:\u001B[96m 0.345933\u001B[93m val_acc:\u001B[96m 91.320000\u001B[0m\n",
      "\u001B[93mEpoch: \u001B[94m53/200 \u001B[93mStep: \u001B[94m391/391 \u001B[93m100.00% |\u001B[92m█████████████████████████\u001B[93m|\u001B[32m167.75s \u001B[93mloss:\u001B[96m 0.063391\u001B[93m acc:\u001B[96m 97.822000\u001B[93m val_loss:\u001B[96m 0.330036\u001B[93m val_acc:\u001B[96m 91.830000\u001B[0m\n",
      "\u001B[93mEpoch: \u001B[94m54/200 \u001B[93mStep: \u001B[94m391/391 \u001B[93m100.00% |\u001B[92m█████████████████████████\u001B[93m|\u001B[32m168.34s \u001B[93mloss:\u001B[96m 0.049530\u001B[93m acc:\u001B[96m 98.314000\u001B[93m val_loss:\u001B[96m 0.375276\u001B[93m val_acc:\u001B[96m 90.160000\u001B[0m\n",
      "\u001B[93mEpoch: \u001B[94m55/200 \u001B[93mStep: \u001B[94m391/391 \u001B[93m100.00% |\u001B[92m█████████████████████████\u001B[93m|\u001B[32m168.40s \u001B[93mloss:\u001B[96m 0.042549\u001B[93m acc:\u001B[96m 98.566000\u001B[93m val_loss:\u001B[96m 0.332040\u001B[93m val_acc:\u001B[96m 91.710000\u001B[0m\n",
      "\u001B[93mEpoch: \u001B[94m56/200 \u001B[93mStep: \u001B[94m391/391 \u001B[93m100.00% |\u001B[92m█████████████████████████\u001B[93m|\u001B[32m168.82s \u001B[93mloss:\u001B[96m 0.038938\u001B[93m acc:\u001B[96m 98.678000\u001B[93m val_loss:\u001B[96m 0.401495\u001B[93m val_acc:\u001B[96m 90.210000\u001B[0m\n",
      "\u001B[93mEpoch: \u001B[94m57/200 \u001B[93mStep: \u001B[94m391/391 \u001B[93m100.00% |\u001B[92m█████████████████████████\u001B[93m|\u001B[32m168.07s \u001B[93mloss:\u001B[96m 0.040464\u001B[93m acc:\u001B[96m 98.652000\u001B[93m val_loss:\u001B[96m 0.327650\u001B[93m val_acc:\u001B[96m 91.760000\u001B[0m\n",
      "\u001B[93mEpoch: \u001B[94m58/200 \u001B[93mStep: \u001B[94m391/391 \u001B[93m100.00% |\u001B[92m█████████████████████████\u001B[93m|\u001B[32m168.60s \u001B[93mloss:\u001B[96m 0.038807\u001B[93m acc:\u001B[96m 98.724000\u001B[93m val_loss:\u001B[96m 0.592795\u001B[93m val_acc:\u001B[96m 87.480000\u001B[0m\n",
      "\u001B[93mEpoch: \u001B[94m59/200 \u001B[93mStep: \u001B[94m391/391 \u001B[93m100.00% |\u001B[92m█████████████████████████\u001B[93m|\u001B[32m168.70s \u001B[93mloss:\u001B[96m 0.053917\u001B[93m acc:\u001B[96m 98.116000\u001B[93m val_loss:\u001B[96m 0.315932\u001B[93m val_acc:\u001B[96m 92.140000\u001B[0m\n",
      "\u001B[93mEpoch: \u001B[94m60/200 \u001B[93mStep: \u001B[94m391/391 \u001B[93m100.00% |\u001B[92m█████████████████████████\u001B[93m|\u001B[32m167.57s \u001B[93mloss:\u001B[96m 0.042149\u001B[93m acc:\u001B[96m 98.464000\u001B[93m val_loss:\u001B[96m 0.398666\u001B[93m val_acc:\u001B[96m 90.510000\u001B[0m\n",
      "\u001B[93mEpoch: \u001B[94m61/200 \u001B[93mStep: \u001B[94m391/391 \u001B[93m100.00% |\u001B[92m█████████████████████████\u001B[93m|\u001B[32m168.14s \u001B[93mloss:\u001B[96m 0.044969\u001B[93m acc:\u001B[96m 98.492000\u001B[93m val_loss:\u001B[96m 0.358893\u001B[93m val_acc:\u001B[96m 91.060000\u001B[0m\n",
      "\u001B[93mEpoch: \u001B[94m62/200 \u001B[93mStep: \u001B[94m391/391 \u001B[93m100.00% |\u001B[92m█████████████████████████\u001B[93m|\u001B[32m167.91s \u001B[93mloss:\u001B[96m 0.037535\u001B[93m acc:\u001B[96m 98.738000\u001B[93m val_loss:\u001B[96m 0.340155\u001B[93m val_acc:\u001B[96m 91.610000\u001B[0m\n",
      "\u001B[93mEpoch: \u001B[94m63/200 \u001B[93mStep: \u001B[94m391/391 \u001B[93m100.00% |\u001B[92m█████████████████████████\u001B[93m|\u001B[32m168.18s \u001B[93mloss:\u001B[96m 0.045073\u001B[93m acc:\u001B[96m 98.450000\u001B[93m val_loss:\u001B[96m 0.341613\u001B[93m val_acc:\u001B[96m 91.370000\u001B[0m\n",
      "\u001B[93mEpoch: \u001B[94m64/200 \u001B[93mStep: \u001B[94m391/391 \u001B[93m100.00% |\u001B[92m█████████████████████████\u001B[93m|\u001B[32m168.37s \u001B[93mloss:\u001B[96m 0.034652\u001B[93m acc:\u001B[96m 98.812000\u001B[93m val_loss:\u001B[96m 0.300031\u001B[93m val_acc:\u001B[96m 92.600000\u001B[0m\n",
      "\u001B[93mEpoch: \u001B[94m65/200 \u001B[93mStep: \u001B[94m391/391 \u001B[93m100.00% |\u001B[92m█████████████████████████\u001B[93m|\u001B[32m167.10s \u001B[93mloss:\u001B[96m 0.042419\u001B[93m acc:\u001B[96m 98.484000\u001B[93m val_loss:\u001B[96m 0.367286\u001B[93m val_acc:\u001B[96m 90.830000\u001B[0m\n",
      "\u001B[93mEpoch: \u001B[94m66/200 \u001B[93mStep: \u001B[94m391/391 \u001B[93m100.00% |\u001B[92m█████████████████████████\u001B[93m|\u001B[32m168.56s \u001B[93mloss:\u001B[96m 0.049963\u001B[93m acc:\u001B[96m 98.280000\u001B[93m val_loss:\u001B[96m 0.300271\u001B[93m val_acc:\u001B[96m 92.110000\u001B[0m\n",
      "\u001B[93mEpoch: \u001B[94m67/200 \u001B[93mStep: \u001B[94m391/391 \u001B[93m100.00% |\u001B[92m█████████████████████████\u001B[93m|\u001B[32m169.11s \u001B[93mloss:\u001B[96m 0.026549\u001B[93m acc:\u001B[96m 99.172000\u001B[93m val_loss:\u001B[96m 0.284173\u001B[93m val_acc:\u001B[96m 93.290000\u001B[0m\n",
      "\u001B[93mEpoch: \u001B[94m68/200 \u001B[93mStep: \u001B[94m391/391 \u001B[93m100.00% |\u001B[92m█████████████████████████\u001B[93m|\u001B[32m169.18s \u001B[93mloss:\u001B[96m 0.009851\u001B[93m acc:\u001B[96m 99.722000\u001B[93m val_loss:\u001B[96m 0.298948\u001B[93m val_acc:\u001B[96m 92.960000\u001B[0m\n",
      "\u001B[93mEpoch: \u001B[94m69/200 \u001B[93mStep: \u001B[94m391/391 \u001B[93m100.00% |\u001B[92m█████████████████████████\u001B[93m|\u001B[32m169.21s \u001B[93mloss:\u001B[96m 0.005655\u001B[93m acc:\u001B[96m 99.886000\u001B[93m val_loss:\u001B[96m 0.250899\u001B[93m val_acc:\u001B[96m 93.810000\u001B[0m\n",
      "\u001B[93mEpoch: \u001B[94m70/200 \u001B[93mStep: \u001B[94m391/391 \u001B[93m100.00% |\u001B[92m█████████████████████████\u001B[93m|\u001B[32m168.06s \u001B[93mloss:\u001B[96m 0.005644\u001B[93m acc:\u001B[96m 99.880000\u001B[93m val_loss:\u001B[96m 0.252858\u001B[93m val_acc:\u001B[96m 93.850000\u001B[0m\n",
      "\u001B[93mEpoch: \u001B[94m71/200 \u001B[93mStep: \u001B[94m391/391 \u001B[93m100.00% |\u001B[92m█████████████████████████\u001B[93m|\u001B[32m168.74s \u001B[93mloss:\u001B[96m 0.004636\u001B[93m acc:\u001B[96m 99.906000\u001B[93m val_loss:\u001B[96m 0.242456\u001B[93m val_acc:\u001B[96m 93.940000\u001B[0m\n",
      "\u001B[93mEpoch: \u001B[94m72/200 \u001B[93mStep: \u001B[94m202/391 \u001B[93m51.66% |\u001B[92m████████████             \u001B[93m|\u001B[93mETA: \u001B[32m78.80s \u001B[93mloss:\u001B[96m 0.001564\u001B[93m acc:\u001B[96m 100.0000000"
     ]
    }
   ],
   "source": [
    "model = Model(\n",
    "    net,\n",
    "    optimizer,\n",
    "    criterion,\n",
    "    batch_metrics=[\"acc\"],\n",
    ")\n",
    "model.to(device)\n",
    "history = model.fit_generator(\n",
    "    trainloader,\n",
    "    testloader,\n",
    "    epochs=200,\n",
    "    callbacks=[scheduler, wandb_callback, sync_callback]\n",
    ")"
   ]
  },
  {
   "cell_type": "code",
   "execution_count": null,
   "id": "better-cleanup",
   "metadata": {},
   "outputs": [],
   "source": []
  },
  {
   "cell_type": "code",
   "execution_count": null,
   "id": "general-atlas",
   "metadata": {},
   "outputs": [],
   "source": []
  }
 ],
 "metadata": {
  "kernelspec": {
   "display_name": "Python 3",
   "language": "python",
   "name": "python3"
  },
  "language_info": {
   "codemirror_mode": {
    "name": "ipython",
    "version": 3
   },
   "file_extension": ".py",
   "mimetype": "text/x-python",
   "name": "python",
   "nbconvert_exporter": "python",
   "pygments_lexer": "ipython3",
   "version": "3.7.7"
  }
 },
 "nbformat": 4,
 "nbformat_minor": 5
}